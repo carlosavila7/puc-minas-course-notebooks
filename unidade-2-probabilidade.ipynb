{
 "cells": [
  {
   "cell_type": "markdown",
   "id": "20d6bd7f",
   "metadata": {},
   "source": [
    "# Exercícios"
   ]
  },
  {
   "cell_type": "markdown",
   "id": "27b1b77d",
   "metadata": {},
   "source": [
    "## Distribuição binomial"
   ]
  },
  {
   "cell_type": "code",
   "execution_count": 34,
   "id": "f45a52cc",
   "metadata": {},
   "outputs": [],
   "source": [
    "from scipy.stats import binom"
   ]
  },
  {
   "cell_type": "markdown",
   "id": "613c3a49",
   "metadata": {},
   "source": [
    "```python\n",
    "    binom.pmf(x,n,p) # Distribuição binomial para o cálculo de P(X=x)\n",
    "\n",
    "    binom.cdf(x,n,p) # Distribuição binomial para o cálculo de P(0<=X<=x) = P(X<=x)\n",
    "\n",
    "    binom.sf(x,n,p) # Distruibuição binomial para o cálculo de P(X>x)\n",
    "```"
   ]
  },
  {
   "cell_type": "markdown",
   "id": "3880bfa4",
   "metadata": {},
   "source": [
    "---"
   ]
  },
  {
   "cell_type": "markdown",
   "id": "a0172f80",
   "metadata": {},
   "source": [
    "Uma caixa de ovos com 12 unidades possui a probabilidade de 5% de um dos ovos ser quebrado em 3 situações: enquanto é manuseado, no transporte e nas gôndolas do mercado.\n",
    "\n",
    "- n = 12\n",
    "- p = 0.05\n",
    "\n",
    "Uma caixa com 12 ovos é selecionada aleatoriamente da gôndola de um supermercado."
   ]
  },
  {
   "cell_type": "markdown",
   "id": "0c549694",
   "metadata": {},
   "source": [
    "a. Qual a probabilidade de que essa caixa de ovos possua 2 unidades quebradas?\n",
    "\n",
    "- x = 2"
   ]
  },
  {
   "cell_type": "code",
   "execution_count": 35,
   "id": "d60d49a4",
   "metadata": {},
   "outputs": [
    {
     "name": "stdout",
     "output_type": "stream",
     "text": [
      "Binomial(n=12, p=0.05)\n",
      "P(X = 2) = 0.098792  (9.879%)\n"
     ]
    }
   ],
   "source": [
    "n = 12\n",
    "p = 0.05\n",
    "prob = binom.pmf(2, n, p)\n",
    "\n",
    "print(f\"Binomial(n={n}, p={p})\")\n",
    "print(f\"P(X = 2) = {prob:.6f}  ({prob * 100:.3f}%)\")"
   ]
  },
  {
   "cell_type": "markdown",
   "id": "ef3dac0a",
   "metadata": {},
   "source": [
    "b. Qual a probabilidade de que essa caixa de ovos possua no máximo 2 unidades quebradas?\n",
    "- x <= 2"
   ]
  },
  {
   "cell_type": "code",
   "execution_count": 36,
   "id": "8370e240",
   "metadata": {},
   "outputs": [
    {
     "name": "stdout",
     "output_type": "stream",
     "text": [
      "Binomial(n=12, p=0.05)\n",
      "P(X <= 2) = 0.980432  (98.043%)\n"
     ]
    }
   ],
   "source": [
    "prob = binom.cdf(2, n, p)\n",
    "\n",
    "print(f\"Binomial(n={n}, p={p})\")\n",
    "print(f\"P(X <= 2) = {prob:.6f}  ({prob * 100:.3f}%)\")"
   ]
  },
  {
   "cell_type": "markdown",
   "id": "8fdea002",
   "metadata": {},
   "source": [
    "c. Qual a probabilidade de que essa caixa de ovos possua mais de 2 unidades quebradas?\n",
    "- x > 2"
   ]
  },
  {
   "cell_type": "code",
   "execution_count": 37,
   "id": "b2e42103",
   "metadata": {},
   "outputs": [
    {
     "name": "stdout",
     "output_type": "stream",
     "text": [
      "Binomial(n=12, p=0.05)\n",
      "P(X > 2) = 0.019568  (1.957%)\n"
     ]
    }
   ],
   "source": [
    "prob = binom.sf(2, n, p)\n",
    "\n",
    "print(f\"Binomial(n={n}, p={p})\")\n",
    "print(f\"P(X > 2) = {prob:.6f}  ({prob * 100:.3f}%)\")"
   ]
  },
  {
   "cell_type": "markdown",
   "id": "b44c8420",
   "metadata": {},
   "source": [
    "## Distribuição Poisson"
   ]
  },
  {
   "cell_type": "code",
   "execution_count": 38,
   "id": "d2c3d66b",
   "metadata": {},
   "outputs": [],
   "source": [
    "from scipy.stats import poisson"
   ]
  },
  {
   "cell_type": "markdown",
   "id": "8219f169",
   "metadata": {},
   "source": [
    "```python\n",
    "    poisson.pmf(x,media) # Distribuição poisson para o cálculo de P(X=x)\n",
    "\n",
    "    poisson.cdf(x,media) # Distribuição poisson para o cálculo de P(0<=X<=x) = P(X<=x)\n",
    "\n",
    "    poisson.sf(x,media) # Distruibuição poisson para o cálculo de P(X>x)\n",
    "```"
   ]
  },
  {
   "cell_type": "markdown",
   "id": "995f7185",
   "metadata": {},
   "source": [
    "---"
   ]
  },
  {
   "cell_type": "markdown",
   "id": "66bf46f5",
   "metadata": {},
   "source": [
    "Um banco realizou uma coleta de dados e, a partir daí percebeu-se que em uma hora, 6 clientes adquirem certo seguro.\n",
    "- media = 6"
   ]
  },
  {
   "cell_type": "markdown",
   "id": "c4b67368",
   "metadata": {},
   "source": [
    "a. A instituição deseja saber qual a probabilidade de, no mesmo período de tempo, pelo menos 8 seguros serem vendidos.\n",
    "- x >= 8"
   ]
  },
  {
   "cell_type": "code",
   "execution_count": 39,
   "id": "5af69c77",
   "metadata": {},
   "outputs": [
    {
     "name": "stdout",
     "output_type": "stream",
     "text": [
      "Poisson(media=6)\n",
      "P(X > 7) = 0.256020  (25.602%)\n"
     ]
    }
   ],
   "source": [
    "media = 6\n",
    "x = 8\n",
    "\n",
    "prob = poisson.sf(x - 1, media)\n",
    "\n",
    "print(f\"Poisson(media={media})\")\n",
    "print(f\"P(X > 7) = {prob:.6f}  ({prob * 100:.3f}%)\")"
   ]
  },
  {
   "cell_type": "markdown",
   "id": "573e246e",
   "metadata": {},
   "source": [
    "b. A instituição deseja saber qual a probabilidade de, no mesmo período de tempo, menos de 8 seguros serem vendidos.\n",
    "- x < 8 "
   ]
  },
  {
   "cell_type": "code",
   "execution_count": 40,
   "id": "6759c389",
   "metadata": {},
   "outputs": [
    {
     "name": "stdout",
     "output_type": "stream",
     "text": [
      "Poisson(media=6)\n",
      "P(X <= 7) = 0.743980  (74.398%)\n"
     ]
    }
   ],
   "source": [
    "x = 8\n",
    "\n",
    "prob = poisson.cdf(x - 1, media)\n",
    "\n",
    "print(f\"Poisson(media={media})\")\n",
    "print(f\"P(X <= 7) = {prob:.6f}  ({prob * 100:.3f}%)\")"
   ]
  },
  {
   "cell_type": "markdown",
   "id": "15e57519",
   "metadata": {},
   "source": [
    "c. A instituição deseja saber qual a probabilidade de, no período de 4 horas, 18 seguros serem vendidos."
   ]
  },
  {
   "cell_type": "code",
   "execution_count": 41,
   "id": "ffe0c97b",
   "metadata": {},
   "outputs": [
    {
     "name": "stdout",
     "output_type": "stream",
     "text": [
      "Poisson(media=24)\n",
      "P(X = 18) = 0.041152  (4.115%)\n"
     ]
    }
   ],
   "source": [
    "media = 6 * 4\n",
    "x = 18\n",
    "\n",
    "prob = poisson.pmf(x, media)\n",
    "\n",
    "print(f\"Poisson(media={media})\")\n",
    "print(f\"P(X = 18) = {prob:.6f}  ({prob * 100:.3f}%)\")"
   ]
  },
  {
   "cell_type": "markdown",
   "id": "a7e56c07",
   "metadata": {},
   "source": [
    "## Distribuição exponencial"
   ]
  },
  {
   "cell_type": "code",
   "execution_count": 1,
   "id": "2e1c7ae3",
   "metadata": {},
   "outputs": [],
   "source": [
    "from scipy.stats import expon"
   ]
  },
  {
   "cell_type": "markdown",
   "id": "43076cf9",
   "metadata": {},
   "source": [
    "```python \n",
    "    expon.cdf(x, scale=media) # Probabilidade de X <= x (função de distribuição acumulada)\n",
    "\n",
    "    expon.sf(x, scale=media) # Probabilidade de X > x (função de sobrevivência)\n",
    "```"
   ]
  },
  {
   "cell_type": "markdown",
   "id": "cdd3e576",
   "metadata": {},
   "source": [
    "A vida útil de uma lâmpada (em horas) é modelada através da distribuição exponencial com parâmetros 1/8000\n",
    "\n",
    "X ~ exp(1/8000)"
   ]
  },
  {
   "cell_type": "markdown",
   "id": "bec67797",
   "metadata": {},
   "source": [
    "a. Calcule o tempo médio de duração dessas lâmpadas"
   ]
  },
  {
   "cell_type": "code",
   "execution_count": 2,
   "id": "8346f7a6",
   "metadata": {},
   "outputs": [
    {
     "data": {
      "text/plain": [
       "8000.0"
      ]
     },
     "execution_count": 2,
     "metadata": {},
     "output_type": "execute_result"
    }
   ],
   "source": [
    "media = 1/(1/8000)\n",
    "\n",
    "media"
   ]
  },
  {
   "cell_type": "markdown",
   "id": "8c379413",
   "metadata": {},
   "source": [
    "b. Calcule a probabilidade de que uma lâmpada dure pelo menos 4000 horas\n",
    "\n",
    "- x >= 4000"
   ]
  },
  {
   "cell_type": "code",
   "execution_count": 5,
   "id": "46c7bf18",
   "metadata": {},
   "outputs": [
    {
     "name": "stdout",
     "output_type": "stream",
     "text": [
      "P(X > 4000) = 0.606531  (60.653%)\n"
     ]
    }
   ],
   "source": [
    "x = 4000\n",
    "\n",
    "prob = expon.sf(x, scale=media)\n",
    "\n",
    "print(f\"P(X > 4000) = {prob:.6f}  ({prob * 100:.3f}%)\")"
   ]
  },
  {
   "cell_type": "markdown",
   "id": "41a15c1b",
   "metadata": {},
   "source": [
    "c. Sabe-se que o fabricante garante a reposição de uma lâmpada caso ela dure menos de 50 horas. Determine a probabilidade de haver troca por defeito na fabricação\n",
    "\n",
    "- x < 50"
   ]
  },
  {
   "cell_type": "code",
   "execution_count": 8,
   "id": "931abc2e",
   "metadata": {},
   "outputs": [
    {
     "name": "stdout",
     "output_type": "stream",
     "text": [
      "P(X < 50) = 0.006231  (0.623%)\n"
     ]
    }
   ],
   "source": [
    "x = 50\n",
    "\n",
    "prob = expon.cdf(x, scale=media)\n",
    "\n",
    "print(f\"P(X < 50) = {prob:.6f}  ({prob * 100:.3f}%)\")"
   ]
  },
  {
   "cell_type": "markdown",
   "id": "c7e964d9",
   "metadata": {},
   "source": [
    "d. Uma lâmpada é colocada em teste. Calcule a probabilidade de que ela dure pelo menos 10000 horas, sabendo-se que ela já está em funcionamento a pelo menos 6000 horas.\n",
    "\n",
    "- x >= (10000 - 6000)\n",
    "- x >= 4000"
   ]
  },
  {
   "cell_type": "code",
   "execution_count": 10,
   "id": "e340d298",
   "metadata": {},
   "outputs": [
    {
     "name": "stdout",
     "output_type": "stream",
     "text": [
      "P(X > 4000) = 0.606531  (60.653%)\n"
     ]
    }
   ],
   "source": [
    "x = 4000\n",
    "\n",
    "prob = expon.sf(x, scale=media)\n",
    "\n",
    "print(f\"P(X > 4000) = {prob:.6f}  ({prob * 100:.3f}%)\")"
   ]
  },
  {
   "cell_type": "markdown",
   "id": "d11e6e82",
   "metadata": {},
   "source": [
    "---"
   ]
  },
  {
   "cell_type": "markdown",
   "id": "ef90457e",
   "metadata": {},
   "source": [
    "A vida de certo componente tem uma distribuição aproximadamente exponencial com média de 1000 horas."
   ]
  },
  {
   "cell_type": "markdown",
   "id": "82070a5d",
   "metadata": {},
   "source": [
    "a. Determinar a porcentagem de componentes que quimarão antes de 1000 horas.\n",
    "-  x < 1000"
   ]
  },
  {
   "cell_type": "code",
   "execution_count": 11,
   "id": "e8e3803c",
   "metadata": {},
   "outputs": [],
   "source": [
    "media = 1000"
   ]
  },
  {
   "cell_type": "code",
   "execution_count": 12,
   "id": "0a81187a",
   "metadata": {},
   "outputs": [
    {
     "name": "stdout",
     "output_type": "stream",
     "text": [
      "P(X < 1000) = 0.632121  (63.212%)\n"
     ]
    }
   ],
   "source": [
    "x = 1000\n",
    "\n",
    "prob = expon.cdf(x, scale=media)\n",
    "\n",
    "print(f\"P(X < 1000) = {prob:.6f}  ({prob * 100:.3f}%)\")"
   ]
  },
  {
   "cell_type": "markdown",
   "id": "d12c86b5",
   "metadata": {},
   "source": [
    "b. Qual é a probabilidade de que os componentes durem entre 900 e 1200 horas?\n",
    "\n",
    "- x > 900 \n",
    "- x < 1200"
   ]
  },
  {
   "cell_type": "code",
   "execution_count": 11,
   "id": "4930df97",
   "metadata": {},
   "outputs": [
    {
     "name": "stdout",
     "output_type": "stream",
     "text": [
      "P(X < 1200) = 0.698806  (69.881%)\n",
      "P(X < 900) = 0.593430  (59.343%)\n",
      "P(1200 < X > 900) = 0.105375  (10.538%)\n"
     ]
    }
   ],
   "source": [
    "x1 = 1200\n",
    "x2 = 900\n",
    "\n",
    "prob1 = expon.cdf(x1, scale=media)\n",
    "prob2 = expon.cdf(x2, scale=media)\n",
    "\n",
    "print(f\"P(X < 1200) = {prob1:.6f}  ({prob1 * 100:.3f}%)\")\n",
    "print(f\"P(X < 900) = {prob2:.6f}  ({prob2 * 100:.3f}%)\")\n",
    "\n",
    "print(f\"P(1200 < X > 900) = {(prob1 - prob2):.6f}  ({(prob1 - prob2) * 100:.3f}%)\")\n"
   ]
  },
  {
   "cell_type": "markdown",
   "id": "40bb30ca",
   "metadata": {},
   "source": [
    "c. Qual é o percentual de componentes que durarão mais de 850 horas?\n",
    "\n",
    "- x > 850"
   ]
  },
  {
   "cell_type": "code",
   "execution_count": 13,
   "id": "ea2e488c",
   "metadata": {},
   "outputs": [
    {
     "name": "stdout",
     "output_type": "stream",
     "text": [
      "P(X > 850) = 0.427415  (42.741%)\n"
     ]
    }
   ],
   "source": [
    "x = 850\n",
    "\n",
    "prob = expon.sf(x, scale=media)\n",
    "\n",
    "print(f\"P(X > 850) = {prob:.6f}  ({prob * 100:.3f}%)\")"
   ]
  }
 ],
 "metadata": {
  "kernelspec": {
   "display_name": "Python 3",
   "language": "python",
   "name": "python3"
  },
  "language_info": {
   "codemirror_mode": {
    "name": "ipython",
    "version": 3
   },
   "file_extension": ".py",
   "mimetype": "text/x-python",
   "name": "python",
   "nbconvert_exporter": "python",
   "pygments_lexer": "ipython3",
   "version": "3.12.9"
  }
 },
 "nbformat": 4,
 "nbformat_minor": 5
}
